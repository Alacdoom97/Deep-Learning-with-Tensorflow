{
 "cells": [
  {
   "cell_type": "code",
   "execution_count": 2,
   "metadata": {},
   "outputs": [],
   "source": [
    "import numpy as np\n",
    "import matplotlib.pyplot as plt\n",
    "import tensorflow as tf"
   ]
  },
  {
   "cell_type": "markdown",
   "metadata": {},
   "source": [
    "## Data Generation "
   ]
  },
  {
   "cell_type": "code",
   "execution_count": 3,
   "metadata": {},
   "outputs": [],
   "source": [
    "observations = 100000\n",
    "\n",
    "# the inputs will take in two variables. X and Z makes it easy to differentiate them.\n",
    "xs = np.random.uniform(low=-10,high=10,size=(observations,1))\n",
    "zs = np.random.uniform(-10,10,(observations,1))\n",
    "\n",
    "# Combine the two variables into one input matrix which becomes the X in the linear model y = x*w + b\n",
    "generated_inputs = np.column_stack((xs,zs))\n",
    "\n",
    "# A small noise is added to the function to change all the time and get less generalization error.\n",
    "noise = np.random.uniform(-1,1, (observations,1))\n",
    "\n",
    "# Produce targets according to the f(x,z) = 2x - 3z + 5 + noise function.\n",
    "generated_targets = 2*xs - 3*zs + 5 + noise\n",
    "\n",
    "# Save it into a npz file called \"TF_intro\"\n",
    "np.savez('TF_intro', inputs=generated_inputs, targets=generated_targets)\n"
   ]
  },
  {
   "cell_type": "markdown",
   "metadata": {},
   "source": [
    "## Solving with TensorFlow "
   ]
  },
  {
   "cell_type": "code",
   "execution_count": 4,
   "metadata": {},
   "outputs": [],
   "source": [
    "# The shape of the data which we've prepared above. Think of it as: number of inputs, number of outputs\n",
    "input_size = 2\n",
    "output_size = 1"
   ]
  },
  {
   "cell_type": "markdown",
   "metadata": {},
   "source": [
    "### Outlining the model"
   ]
  },
  {
   "cell_type": "code",
   "execution_count": 5,
   "metadata": {},
   "outputs": [],
   "source": [
    "# Define the TensorFlow placeholder. The data in here does not retain afterwards.\n",
    "inputs = tf.placeholder(tf.float32, [None, input_size])\n",
    "targets = tf.placeholder(tf.float32, [None, output_size])\n",
    "\n",
    "# Define the weights and biases. This time we use a Tensorflow object, the variable. Variables, unlike placeholders,\n",
    "# preserve their values for each iteration\n",
    "weights = tf.Variable(tf.random.uniform([input_size, output_size], minval=-0.1,maxval=0.1))\n",
    "biases = tf.Variable(tf.random.uniform([output_size], minval=-0.1,maxval=0.1))\n",
    "\n",
    "# Lastly, we get the outputs using the linear model combination y = xw + b\n",
    "# The tf.matmul is the same as np.dot but just made for tensorflow.\n",
    "outputs = tf.matmul(inputs, weights) + biases"
   ]
  },
  {
   "cell_type": "markdown",
   "metadata": {},
   "source": [
    "### Choosing the objective function and the optimization method"
   ]
  },
  {
   "cell_type": "code",
   "execution_count": 6,
   "metadata": {},
   "outputs": [
    {
     "name": "stdout",
     "output_type": "stream",
     "text": [
      "WARNING:tensorflow:From D:\\AnacondaIDE\\lib\\site-packages\\tensorflow\\python\\ops\\losses\\losses_impl.py:121: add_dispatch_support.<locals>.wrapper (from tensorflow.python.ops.array_ops) is deprecated and will be removed in a future version.\n",
      "Instructions for updating:\n",
      "Use tf.where in 2.0, which has the same broadcast rule as np.where\n"
     ]
    }
   ],
   "source": [
    "# To get the mean loss, we use the loss function. This time though, it's readily available\n",
    "mean_loss = tf.mean_squared_error(labels=targets, predictions=outputs) / 2.\n",
    "\n",
    "# Instead of implementing our own Gradient Descent, we use TensorFlows optimizer\n",
    "optimize = tf.train.GradientDescentOptimizer(learning_rate=0.05).minimize(mean_loss)"
   ]
  },
  {
   "cell_type": "markdown",
   "metadata": {},
   "source": [
    "### Prepare for execution"
   ]
  },
  {
   "cell_type": "code",
   "execution_count": 7,
   "metadata": {},
   "outputs": [],
   "source": [
    "session = tf.InteractiveSession()"
   ]
  },
  {
   "cell_type": "markdown",
   "metadata": {},
   "source": [
    "### Initializing variables"
   ]
  },
  {
   "cell_type": "code",
   "execution_count": 8,
   "metadata": {},
   "outputs": [],
   "source": [
    "initializer = tf.global_variables_initializer()\n",
    "\n",
    "session.run(initializer)"
   ]
  },
  {
   "cell_type": "markdown",
   "metadata": {},
   "source": [
    "### Loading training data"
   ]
  },
  {
   "cell_type": "code",
   "execution_count": 9,
   "metadata": {},
   "outputs": [],
   "source": [
    "training_data = np.load('TF_intro.npz')"
   ]
  },
  {
   "cell_type": "markdown",
   "metadata": {},
   "source": [
    "### Learning"
   ]
  },
  {
   "cell_type": "code",
   "execution_count": 11,
   "metadata": {},
   "outputs": [
    {
     "name": "stdout",
     "output_type": "stream",
     "text": [
      "8.52426\n",
      "8.250068\n",
      "7.977195\n",
      "7.7057214\n",
      "7.435755\n",
      "7.1674137\n",
      "6.900855\n",
      "6.6362214\n",
      "6.373685\n",
      "6.1134863\n",
      "5.8558755\n",
      "5.6011567\n",
      "5.3496614\n",
      "5.101768\n",
      "4.8579335\n",
      "4.6186705\n",
      "4.384524\n",
      "4.1561146\n",
      "3.9342368\n",
      "3.7197862\n",
      "3.5137334\n",
      "3.3171968\n",
      "3.1316037\n",
      "2.9585397\n",
      "2.7996337\n",
      "2.6565018\n",
      "2.5308232\n",
      "2.4237065\n",
      "2.3352432\n",
      "2.264639\n",
      "2.209983\n",
      "2.168351\n",
      "2.1364863\n",
      "2.111414\n",
      "2.0907924\n",
      "2.073005\n",
      "2.0570056\n",
      "2.0421443\n",
      "2.0280204\n",
      "2.014384\n",
      "2.0010788\n",
      "1.9880018\n",
      "1.9750861\n",
      "1.962286\n",
      "1.9495707\n",
      "1.9369192\n",
      "1.924316\n",
      "1.9117494\n",
      "1.8992118\n",
      "1.8866966\n",
      "1.8741995\n",
      "1.8617172\n",
      "1.8492461\n",
      "1.8367848\n",
      "1.8243314\n",
      "1.8118846\n",
      "1.799443\n",
      "1.7870059\n",
      "1.7745731\n",
      "1.7621433\n",
      "1.7497168\n",
      "1.7372922\n",
      "1.7248703\n",
      "1.7124503\n",
      "1.7000322\n",
      "1.6876156\n",
      "1.6752006\n",
      "1.6627872\n",
      "1.6503754\n",
      "1.6379645\n",
      "1.6255553\n",
      "1.613147\n",
      "1.6007402\n",
      "1.5883348\n",
      "1.5759306\n",
      "1.5635278\n",
      "1.5511264\n",
      "1.5387264\n",
      "1.5263278\n",
      "1.5139307\n",
      "1.5015353\n",
      "1.4891418\n",
      "1.4767499\n",
      "1.4643595\n",
      "1.4519714\n",
      "1.4395853\n",
      "1.4272013\n",
      "1.4148198\n",
      "1.40244\n",
      "1.3900632\n",
      "1.3776888\n",
      "1.3653167\n",
      "1.3529475\n",
      "1.3405808\n",
      "1.3282171\n",
      "1.315856\n",
      "1.3034977\n",
      "1.2911422\n",
      "1.2787895\n",
      "1.2664396\n"
     ]
    }
   ],
   "source": [
    "for e in range(100):\n",
    "    _,curr_loss = session.run([optimize, mean_loss],\n",
    "                          feed_dict = {inputs: training_data['inputs'], targets: training_data['targets']})\n",
    "    \n",
    "    print(curr_loss)"
   ]
  },
  {
   "cell_type": "markdown",
   "metadata": {},
   "source": [
    "### Plotting the data"
   ]
  },
  {
   "cell_type": "code",
   "execution_count": 12,
   "metadata": {},
   "outputs": [
    {
     "data": {
      "image/png": "[encoded data removed]",
      "text/plain": [
       "<Figure size 432x288 with 1 Axes>"
      ]
     },
     "metadata": {
      "needs_background": "light"
     },
     "output_type": "display_data"
    }
   ],
   "source": [
    "out = session.run([outputs], feed_dict={inputs:training_data['inputs']})\n",
    "plt.plot(np.squeeze(out), np.squeeze(training_data['targets']))\n",
    "plt.xlabel('outputs')\n",
    "plt.ylabel('targets')\n",
    "plt.show()"
   ]
  },
  {
   "cell_type": "code",
   "execution_count": 13,
   "metadata": {},
   "outputs": [
    {
     "name": "stdout",
     "output_type": "stream",
     "text": [
      "[array([[ 1.9739879],\n",
      "       [-2.8241174]], dtype=float32)]\n",
      "[array([1.9915084], dtype=float32)]\n"
     ]
    }
   ],
   "source": [
    "w = session.run([weights], feed_dict = {inputs: training_data['inputs']})\n",
    "\n",
    "b = session.run([biases], feed_dict = {inputs: training_data['inputs']})\n",
    "\n",
    "print(w)\n",
    "print(b)"
   ]
  },
  {
   "cell_type": "code",
   "execution_count": null,
   "metadata": {},
   "outputs": [],
   "source": []
  }
 ],
 "metadata": {
  "kernelspec": {
   "display_name": "Python 3",
   "language": "python",
   "name": "python3"
  },
  "language_info": {
   "codemirror_mode": {
    "name": "ipython",
    "version": 3
   },
   "file_extension": ".py",
   "mimetype": "text/x-python",
   "name": "python",
   "nbconvert_exporter": "python",
   "pygments_lexer": "ipython3",
   "version": "3.7.6"
  }
 },
 "nbformat": 4,
 "nbformat_minor": 4
}
