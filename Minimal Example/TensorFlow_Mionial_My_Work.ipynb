{
 "cells": [
  {
   "cell_type": "code",
   "execution_count": 6,
   "metadata": {},
   "outputs": [],
   "source": [
    "import numpy as np\n",
    "import matplotlib.pyplot as plt\n",
    "import tensorflow as tf"
   ]
  },
  {
   "cell_type": "markdown",
   "metadata": {},
   "source": [
    "## Data Generation "
   ]
  },
  {
   "cell_type": "code",
   "execution_count": 7,
   "metadata": {},
   "outputs": [],
   "source": [
    "observations = 100000\n",
    "\n",
    "# the inputs will take in two variables. X and Z makes it easy to differentiate them.\n",
    "xs = np.random.uniform(low=-10,high=10,size=(observations,1))\n",
    "zs = np.random.uniform(-10,10,(observations,1))\n",
    "\n",
    "# Combine the two variables into one input matrix which becomes the X in the linear model y = x*w + b\n",
    "generated_inputs = np.column_stack((xs,zs))\n",
    "\n",
    "# A small noise is added to the function to change all the time and get less generalization error.\n",
    "noise = np.random.uniform(-1,1, (observations,1))\n",
    "\n",
    "# Produce targets according to the f(x,z) = 2x - 3z + 5 + noise function.\n",
    "generated_targets = 2*xs - 3*zs + 5 + noise\n",
    "\n",
    "# Save it into a npz file called \"TF_intro\"\n",
    "np.savez('TF_intro', inputs=generated_inputs, targets=generated_targets)\n"
   ]
  },
  {
   "cell_type": "markdown",
   "metadata": {},
   "source": [
    "## Solving with TensorFlow "
   ]
  },
  {
   "cell_type": "code",
   "execution_count": 8,
   "metadata": {},
   "outputs": [],
   "source": [
    "# The shape of the data which we've prepared above. Think of it as: number of inputs, number of outputs\n",
    "input_size = 2\n",
    "output_size = 1"
   ]
  },
  {
   "cell_type": "markdown",
   "metadata": {},
   "source": [
    "### Outlining the model"
   ]
  },
  {
   "cell_type": "code",
   "execution_count": 9,
   "metadata": {},
   "outputs": [],
   "source": [
    "# Define the TensorFlow placeholder. The data in here does not retain afterwards.\n",
    "inputs = tf.placeholder(tf.float32, [None, input_size])\n",
    "targets = tf.placeholder(tf.float32, [None, output_size])\n",
    "\n",
    "# Define the weights and biases. This time we use a Tensorflow object, the variable. Variables, unlike placeholders,\n",
    "# preserve their values for each iteration\n",
    "weights = tf.Variable(tf.random.uniform([input_size, output_size], minval=-0.1,maxval=0.1))\n",
    "biases = tf.Variable(tf.random.uniform([output_size], minval=-0.1,maxval=0.1))\n",
    "\n",
    "# Lastly, we get the outputs using the linear model combination y = xw + b\n",
    "# The tf.matmul is the same as np.dot but just made for tensorflow.\n",
    "outputs = tf.matmul(inputs, weights) + biases"
   ]
  },
  {
   "cell_type": "markdown",
   "metadata": {},
   "source": [
    "### Choosing the objective function and the optimization method"
   ]
  },
  {
   "cell_type": "code",
   "execution_count": 12,
   "metadata": {},
   "outputs": [
    {
     "name": "stdout",
     "output_type": "stream",
     "text": [
      "WARNING:tensorflow:From D:\\AnacondaIDE\\lib\\site-packages\\tensorflow\\python\\ops\\losses\\losses_impl.py:121: add_dispatch_support.<locals>.wrapper (from tensorflow.python.ops.array_ops) is deprecated and will be removed in a future version.\n",
      "Instructions for updating:\n",
      "Use tf.where in 2.0, which has the same broadcast rule as np.where\n"
     ]
    }
   ],
   "source": [
    "# To get the mean loss, we use the loss function. This time though, it's readily available\n",
    "mean_loss = tf.losses.mean_squared_error(labels=targets, predictions=outputs) / 2.\n",
    "\n",
    "# Instead of implementing our own Gradient Descent, we use TensorFlows optimizer\n",
    "optimize = tf.train.GradientDescentOptimizer(learning_rate=0.05).minimize(mean_loss)"
   ]
  },
  {
   "cell_type": "markdown",
   "metadata": {},
   "source": [
    "### Prepare for execution"
   ]
  },
  {
   "cell_type": "code",
   "execution_count": 13,
   "metadata": {},
   "outputs": [],
   "source": [
    "session = tf.InteractiveSession()"
   ]
  },
  {
   "cell_type": "markdown",
   "metadata": {},
   "source": [
    "### Initializing variables"
   ]
  },
  {
   "cell_type": "code",
   "execution_count": 14,
   "metadata": {},
   "outputs": [],
   "source": [
    "initializer = tf.global_variables_initializer()\n",
    "\n",
    "session.run(initializer)"
   ]
  },
  {
   "cell_type": "markdown",
   "metadata": {},
   "source": [
    "### Loading training data"
   ]
  },
  {
   "cell_type": "code",
   "execution_count": 15,
   "metadata": {},
   "outputs": [],
   "source": [
    "training_data = np.load('TF_intro.npz')"
   ]
  },
  {
   "cell_type": "markdown",
   "metadata": {},
   "source": [
    "### Learning"
   ]
  },
  {
   "cell_type": "code",
   "execution_count": 16,
   "metadata": {},
   "outputs": [
    {
     "name": "stdout",
     "output_type": "stream",
     "text": [
      "237.64194\n",
      "114.61008\n",
      "57.56644\n",
      "30.886305\n",
      "18.202362\n",
      "11.99098\n",
      "8.791332\n",
      "7.009534\n",
      "5.909788\n",
      "5.1509533\n",
      "4.573544\n",
      "4.101833\n",
      "3.6988282\n",
      "3.3455625\n",
      "3.0315444\n",
      "2.750352\n",
      "2.4975903\n",
      "2.2699404\n",
      "2.0647004\n",
      "1.879569\n",
      "1.7125326\n",
      "1.5618021\n",
      "1.4257772\n",
      "1.3030179\n",
      "1.1922289\n",
      "1.0922425\n",
      "1.0020047\n",
      "0.9205647\n",
      "0.8470647\n",
      "0.78073037\n",
      "0.7208636\n",
      "0.6668336\n",
      "0.6180715\n",
      "0.5740627\n",
      "0.5343451\n",
      "0.49849972\n",
      "0.46614894\n",
      "0.43695235\n",
      "0.4106019\n",
      "0.3868207\n",
      "0.36535808\n",
      "0.34598783\n",
      "0.32850602\n",
      "0.31272885\n",
      "0.2984896\n",
      "0.28563878\n",
      "0.27404082\n",
      "0.2635735\n",
      "0.2541266\n",
      "0.24560101\n",
      "0.2379065\n",
      "0.23096204\n",
      "0.2246948\n",
      "0.21903841\n",
      "0.21393381\n",
      "0.2093266\n",
      "0.20516865\n",
      "0.20141606\n",
      "0.19802935\n",
      "0.19497277\n",
      "0.19221425\n",
      "0.18972465\n",
      "0.18747781\n",
      "0.18544996\n",
      "0.18361984\n",
      "0.18196806\n",
      "0.18047743\n",
      "0.17913215\n",
      "0.17791793\n",
      "0.17682216\n",
      "0.17583315\n",
      "0.1749407\n",
      "0.17413516\n",
      "0.17340809\n",
      "0.17275201\n",
      "0.17215987\n",
      "0.17162547\n",
      "0.17114313\n",
      "0.17070785\n",
      "0.17031504\n",
      "0.16996045\n",
      "0.16964047\n",
      "0.16935171\n",
      "0.16909109\n",
      "0.16885586\n",
      "0.16864355\n",
      "0.16845198\n",
      "0.16827902\n",
      "0.16812299\n",
      "0.16798213\n",
      "0.16785504\n",
      "0.16774032\n",
      "0.16763678\n",
      "0.16754332\n",
      "0.16745903\n",
      "0.1673829\n",
      "0.16731422\n",
      "0.16725224\n",
      "0.16719629\n",
      "0.16714582\n"
     ]
    }
   ],
   "source": [
    "for e in range(100):\n",
    "    _,curr_loss = session.run([optimize, mean_loss],\n",
    "                          feed_dict = {inputs: training_data['inputs'], targets: training_data['targets']})\n",
    "    \n",
    "    print(curr_loss)"
   ]
  },
  {
   "cell_type": "markdown",
   "metadata": {},
   "source": [
    "### Plotting the data"
   ]
  },
  {
   "cell_type": "code",
   "execution_count": 17,
   "metadata": {},
   "outputs": [
    {
     "data": {
      "image/png": "[encoded data removed]",
      "text/plain": [
       "<Figure size 432x288 with 1 Axes>"
      ]
     },
     "metadata": {
      "needs_background": "light"
     },
     "output_type": "display_data"
    }
   ],
   "source": [
    "out = session.run([outputs], feed_dict={inputs:training_data['inputs']})\n",
    "plt.plot(np.squeeze(out), np.squeeze(training_data['targets']))\n",
    "plt.xlabel('outputs')\n",
    "plt.ylabel('targets')\n",
    "plt.show()"
   ]
  },
  {
   "cell_type": "code",
   "execution_count": 18,
   "metadata": {},
   "outputs": [
    {
     "name": "stdout",
     "output_type": "stream",
     "text": [
      "[array([[ 2.0001218],\n",
      "       [-3.0000246]], dtype=float32)]\n",
      "[array([4.968677], dtype=float32)]\n"
     ]
    }
   ],
   "source": [
    "w = session.run([weights], feed_dict = {inputs: training_data['inputs']})\n",
    "\n",
    "b = session.run([biases], feed_dict = {inputs: training_data['inputs']})\n",
    "\n",
    "print(w)\n",
    "print(b)"
   ]
  },
  {
   "cell_type": "code",
   "execution_count": null,
   "metadata": {},
   "outputs": [],
   "source": []
  }
 ],
 "metadata": {
  "kernelspec": {
   "display_name": "Python 3",
   "language": "python",
   "name": "python3"
  },
  "language_info": {
   "codemirror_mode": {
    "name": "ipython",
    "version": 3
   },
   "file_extension": ".py",
   "mimetype": "text/x-python",
   "name": "python",
   "nbconvert_exporter": "python",
   "pygments_lexer": "ipython3",
   "version": "3.7.6"
  }
 },
 "nbformat": 4,
 "nbformat_minor": 4
}
