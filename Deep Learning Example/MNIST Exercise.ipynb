{
 "cells": [
  {
   "cell_type": "markdown",
   "metadata": {},
   "source": [
    "### Deep Neural Network for MNIST Classification"
   ]
  },
  {
   "cell_type": "code",
   "execution_count": 3,
   "metadata": {},
   "outputs": [
    {
     "name": "stdout",
     "output_type": "stream",
     "text": [
      "Extracting MNIST_data/train-images-idx3-ubyte.gz\n",
      "Extracting MNIST_data/train-labels-idx1-ubyte.gz\n",
      "Extracting MNIST_data/t10k-images-idx3-ubyte.gz\n",
      "Extracting MNIST_data/t10k-labels-idx1-ubyte.gz\n"
     ]
    }
   ],
   "source": [
    "import numpy as np\n",
    "import tensorflow as tf\n",
    "import time\n",
    "# Imports the test and validation data from this below import\n",
    "from tensorflow.examples.tutorials.mnist import input_data\n",
    "\n",
    "mnist = input_data.read_data_sets(\"MNIST_data/\", one_hot=True)"
   ]
  },
  {
   "cell_type": "markdown",
   "metadata": {},
   "source": [
    "### Outline the model"
   ]
  },
  {
   "cell_type": "code",
   "execution_count": 25,
   "metadata": {},
   "outputs": [
    {
     "name": "stderr",
     "output_type": "stream",
     "text": [
      "D:\\AnacondaIDE\\lib\\site-packages\\tensorflow\\python\\client\\session.py:1735: UserWarning: An interactive session is already active. This can cause out-of-memory errors in some cases. You must explicitly call `InteractiveSession.close()` to release resources held by the other session(s).\n",
      "  warnings.warn('An interactive session is already active. This can '\n"
     ]
    },
    {
     "name": "stdout",
     "output_type": "stream",
     "text": [
      "Epoch 1. Training loss: 0.330. Validation loss: 0.153. Validation accuracy: 95.54%\n",
      "Epoch 2. Training loss: 0.138. Validation loss: 0.111. Validation accuracy: 96.78%\n",
      "Epoch 3. Training loss: 0.097. Validation loss: 0.092. Validation accuracy: 97.56%\n",
      "Epoch 4. Training loss: 0.075. Validation loss: 0.086. Validation accuracy: 97.38%\n",
      "Epoch 5. Training loss: 0.059. Validation loss: 0.083. Validation accuracy: 97.60%\n",
      "Epoch 6. Training loss: 0.049. Validation loss: 0.080. Validation accuracy: 97.60%\n",
      "Epoch 7. Training loss: 0.040. Validation loss: 0.079. Validation accuracy: 97.70%\n",
      "Epoch 8. Training loss: 0.032. Validation loss: 0.081. Validation accuracy: 97.84%\n",
      "End of training\n",
      "Training time: 8.464206457138062 seconds\n"
     ]
    }
   ],
   "source": [
    "input_size = 784\n",
    "output_size = 10\n",
    "hidden_layer_size = 100\n",
    "\n",
    "tf.reset_default_graph()\n",
    "\n",
    "inputs = tf.placeholder(tf.float32, [None, input_size])\n",
    "targets = tf.placeholder(tf.float32, [None, output_size])\n",
    "\n",
    "\n",
    "weights_1 = tf.get_variable(\"weights_1\", [input_size, hidden_layer_size])\n",
    "biases_1 = tf.get_variable(\"biases_1\", [hidden_layer_size])\n",
    "outputs_1 = tf.nn.relu(tf.matmul(inputs,weights_1) + biases_1)\n",
    "\n",
    "\n",
    "weights_2 = tf.get_variable(\"weights_2\", [hidden_layer_size, hidden_layer_size])\n",
    "biases_2 = tf.get_variable(\"biases_2\", [hidden_layer_size])\n",
    "outputs_2 = tf.nn.relu(tf.matmul(outputs_1, weights_2) + biases_2)\n",
    "\n",
    "weights_3 = tf.get_variable(\"weights_3\", [hidden_layer_size, output_size])\n",
    "biases_3 = tf.get_variable(\"biases_3\", [output_size])\n",
    "outputs = tf.matmul(outputs_2,weights_3) + biases_3\n",
    "loss = tf.nn.softmax_cross_entropy_with_logits(logits = outputs, labels = targets)\n",
    "\n",
    "\n",
    "mean_loss = tf.reduce_mean(loss)\n",
    "optimize = tf.train.AdamOptimizer(learning_rate=0.001).minimize(mean_loss)\n",
    "out_equals_target = tf.equal(tf.argmax(outputs,1), tf.argmax(targets,1))\n",
    "accuracy = tf.reduce_mean(tf.cast(out_equals_target, tf.float32))\n",
    "\n",
    "\n",
    "session = tf.InteractiveSession()\n",
    "initializer = tf.global_variables_initializer()\n",
    "session.run(initializer)\n",
    "\n",
    "\n",
    "batch_size = 100\n",
    "batches_number = mnist.train._num_examples // batch_size\n",
    "\n",
    "\n",
    "max_epochs = 15\n",
    "\n",
    "previous_validation_loss = 9999999.\n",
    "start_time = time.time()    \n",
    "\n",
    "for epoch_counter in range(max_epochs):\n",
    "    curr_epoch_loss = 0.\n",
    "    \n",
    "    for batch_counter in range(batches_number):\n",
    "         \n",
    "        input_batch, target_batch = mnist.train.next_batch(batch_size)\n",
    "        _, batch_loss = session.run([optimize, mean_loss],\n",
    "                                   feed_dict={inputs: input_batch, targets: target_batch})\n",
    "        curr_epoch_loss += batch_loss\n",
    "        \n",
    "    curr_epoch_loss /= batches_number\n",
    "    \n",
    "    input_batch, target_batch = mnist.validation.next_batch(mnist.validation._num_examples)\n",
    "    \n",
    "    validation_loss, validation_accuracy = session.run([mean_loss, accuracy],\n",
    "                                                   feed_dict={inputs: input_batch, targets: target_batch})\n",
    "    \n",
    "    print('Epoch ' + str(epoch_counter + 1) +\n",
    "         '. Training loss: ' + '{0:.3f}'.format(curr_epoch_loss) +\n",
    "         '. Validation loss: ' + '{0:.3f}'.format(validation_loss) +\n",
    "         '. Validation accuracy: ' + '{0:.2f}'.format(validation_accuracy * 100) + '%')\n",
    "    \n",
    "    if validation_loss > previous_validation_loss:\n",
    "        break\n",
    "    previous_validation_loss = validation_loss\n",
    "\n",
    "print('End of training')\n",
    "print(\"Training time: %s seconds\" % (time.time() - start_time))"
   ]
  },
  {
   "cell_type": "markdown",
   "metadata": {},
   "source": [
    "### Test the data"
   ]
  },
  {
   "cell_type": "code",
   "execution_count": 11,
   "metadata": {},
   "outputs": [
    {
     "name": "stdout",
     "output_type": "stream",
     "text": [
      "Test accuracy: 97.49%\n"
     ]
    }
   ],
   "source": [
    "input_batch, target_batch = mnist.test.next_batch(mnist.test._num_examples)\n",
    "test_accuracy = session.run([accuracy],\n",
    "                           feed_dict={inputs: input_batch, targets: target_batch})\n",
    "\n",
    "test_accuracy_percent = test_accuracy[0] * 100.\n",
    "\n",
    "print('Test accuracy: ' + '{0:.2f}'.format(test_accuracy_percent) + '%')"
   ]
  },
  {
   "cell_type": "code",
   "execution_count": null,
   "metadata": {},
   "outputs": [],
   "source": []
  }
 ],
 "metadata": {
  "kernelspec": {
   "display_name": "Python 3",
   "language": "python",
   "name": "python3"
  },
  "language_info": {
   "codemirror_mode": {
    "name": "ipython",
    "version": 3
   },
   "file_extension": ".py",
   "mimetype": "text/x-python",
   "name": "python",
   "nbconvert_exporter": "python",
   "pygments_lexer": "ipython3",
   "version": "3.7.6"
  }
 },
 "nbformat": 4,
 "nbformat_minor": 4
}
