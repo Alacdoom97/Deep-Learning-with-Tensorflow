{
 "cells": [
  {
   "cell_type": "markdown",
   "metadata": {},
   "source": [
    "### Deep Neural Network for MNIST Classification"
   ]
  },
  {
   "cell_type": "code",
   "execution_count": 3,
   "metadata": {},
   "outputs": [
    {
     "name": "stdout",
     "output_type": "stream",
     "text": [
      "Extracting MNIST_data/train-images-idx3-ubyte.gz\n",
      "Extracting MNIST_data/train-labels-idx1-ubyte.gz\n",
      "Extracting MNIST_data/t10k-images-idx3-ubyte.gz\n",
      "Extracting MNIST_data/t10k-labels-idx1-ubyte.gz\n"
     ]
    }
   ],
   "source": [
    "import numpy as np\n",
    "import tensorflow as tf\n",
    "import time\n",
    "from tensorflow.examples.tutorials.mnist import input_data\n",
    "# TensorFLow includes a data provider for MNIST that we'll use.\n",
    "\n",
    "mnist = input_data.read_data_sets(\"MNIST_data/\", one_hot=True)"
   ]
  },
  {
   "cell_type": "markdown",
   "metadata": {},
   "source": [
    "### Outline the model"
   ]
  },
  {
   "cell_type": "code",
   "execution_count": 25,
   "metadata": {},
   "outputs": [
    {
     "name": "stderr",
     "output_type": "stream",
     "text": [
      "D:\\AnacondaIDE\\lib\\site-packages\\tensorflow\\python\\client\\session.py:1735: UserWarning: An interactive session is already active. This can cause out-of-memory errors in some cases. You must explicitly call `InteractiveSession.close()` to release resources held by the other session(s).\n",
      "  warnings.warn('An interactive session is already active. This can '\n"
     ]
    },
    {
     "name": "stdout",
     "output_type": "stream",
     "text": [
      "Epoch 1. Training loss: 0.330. Validation loss: 0.153. Validation accuracy: 95.54%\n",
      "Epoch 2. Training loss: 0.138. Validation loss: 0.111. Validation accuracy: 96.78%\n",
      "Epoch 3. Training loss: 0.097. Validation loss: 0.092. Validation accuracy: 97.56%\n",
      "Epoch 4. Training loss: 0.075. Validation loss: 0.086. Validation accuracy: 97.38%\n",
      "Epoch 5. Training loss: 0.059. Validation loss: 0.083. Validation accuracy: 97.60%\n",
      "Epoch 6. Training loss: 0.049. Validation loss: 0.080. Validation accuracy: 97.60%\n",
      "Epoch 7. Training loss: 0.040. Validation loss: 0.079. Validation accuracy: 97.70%\n",
      "Epoch 8. Training loss: 0.032. Validation loss: 0.081. Validation accuracy: 97.84%\n",
      "End of training\n",
      "Training time: 8.464206457138062 seconds\n"
     ]
    }
   ],
   "source": [
    "input_size = 784\n",
    "output_size = 10\n",
    "# Use same hidden layer size for both hidden layers. Not a necessity.\n",
    "hidden_layer_size = 100\n",
    "\n",
    "# Resets any variables left in memory from previous runs.\n",
    "tf.reset_default_graph()\n",
    "\n",
    "# Declare placeholders where the variable will be put in\n",
    "inputs = tf.placeholder(tf.float32, [None, input_size])\n",
    "targets = tf.placeholder(tf.float32, [None, output_size])\n",
    "\n",
    "# Weights and biases for the first linear combination between inputs and first hiddne layer.\n",
    "# get_variable makes use of the default TensorFlow initializer which is Xavier initialization.\n",
    "weights_1 = tf.get_variable(\"weights_1\", [input_size, hidden_layer_size])\n",
    "biases_1 = tf.get_variable(\"biases_1\", [hidden_layer_size])\n",
    "# Operation between inputs and first hidden layer. ReLu was used as activation function.\n",
    "outputs_1 = tf.nn.relu(tf.matmul(inputs,weights_1) + biases_1)\n",
    "\n",
    "# Weights and biases for the first linear combination between first hidden layer and second hidden layer.\n",
    "weights_2 = tf.get_variable(\"weights_2\", [hidden_layer_size, hidden_layer_size])\n",
    "biases_2 = tf.get_variable(\"biases_2\", [hidden_layer_size])\n",
    "# Operation between first hidden layer and second hidden layer. ReLu was used again here.\n",
    "outputs_2 = tf.nn.relu(tf.matmul(outputs_1, weights_2) + biases_2)\n",
    "\n",
    "# Weights and biases for the final combination.\n",
    "weights_3 = tf.get_variable(\"weights_3\", [hidden_layer_size, output_size])\n",
    "biases_3 = tf.get_variable(\"biases_3\", [output_size])\n",
    "# Final operation between second hidden layer and outputs. ReLu wasn't used here\n",
    "# because we use a trick to include it directly into the loss function. Works for softmax and sigmoid.\n",
    "outputs = tf.matmul(outputs_2,weights_3) + biases_3\n",
    "\n",
    "# Calculates the loss function for every output or pair.\n",
    "loss = tf.nn.softmax_cross_entropy_with_logits(logits = outputs, labels = targets)\n",
    "\n",
    "# Gets the average loss.\n",
    "mean_loss = tf.reduce_mean(loss)\n",
    "\n",
    "# Optimization stage defined below.\n",
    "optimize = tf.train.AdamOptimizer(learning_rate=0.001).minimize(mean_loss)\n",
    "\n",
    "# Get a 0 or 1 for every input in the batch.\n",
    "out_equals_target = tf.equal(tf.argmax(outputs,1), tf.argmax(targets,1))\n",
    "\n",
    "# Get the average accuracy of the outputs.\n",
    "accuracy = tf.reduce_mean(tf.cast(out_equals_target, tf.float32))\n",
    "\n",
    "# Declare session variable.\n",
    "session = tf.InteractiveSession()\n",
    "\n",
    "# Initialize the variables. Default is Xavier.\n",
    "initializer = tf.global_variables_initializer()\n",
    "\n",
    "# Run the session.\n",
    "session.run(initializer)\n",
    "\n",
    "# Batch size\n",
    "batch_size = 100\n",
    "# Calculate the number of batches per epoch\n",
    "batches_number = mnist.train._num_examples // batch_size\n",
    "\n",
    "# Basic early stopping.\n",
    "max_epochs = 15\n",
    "\n",
    "# Keep track of the validation loss of the previous epoch.\n",
    "# The variable is kept at very high number to make sure we dont trigger stop\n",
    "# in the first epoch.\n",
    "previous_validation_loss = 9999999.\n",
    "\n",
    "#counting the time taken for the algorithm to train.\n",
    "start_time = time.time()    \n",
    "\n",
    "# Create a loop for the epochs. Epoch_counter is a variable which automatically starts from 0.\n",
    "for epoch_counter in range(max_epochs):\n",
    "    # Keep track of the sum of batch losses in the epoch.\n",
    "    curr_epoch_loss = 0.\n",
    "    \n",
    "    # Iterate over the batches in this epoch.\n",
    "    for batch_counter in range(batches_number):\n",
    "        \n",
    "        # Input batch and target batch are assigned values from the train dataset, given a batch size\n",
    "        input_batch, target_batch = mnist.train.next_batch(batch_size)\n",
    "        \n",
    "        # Run the optimization step and get the mean loss for this batch.\n",
    "        # Feed it with the inputs and the targets we just got from the train dataset\n",
    "        _, batch_loss = session.run([optimize, mean_loss],\n",
    "                                   feed_dict={inputs: input_batch, targets: target_batch})\n",
    "        \n",
    "        # Increment the sum of batch losses\n",
    "        curr_epoch_loss += batch_loss\n",
    "    \n",
    "    # Calculat the average batch loss\n",
    "    curr_epoch_loss /= batches_number\n",
    "    \n",
    "    # At the end of each epoch, get the validation loss and accuracy\n",
    "    input_batch, target_batch = mnist.validation.next_batch(mnist.validation._num_examples)\n",
    "    \n",
    "    # Run without the optimization step (simply forward propagate)\n",
    "    validation_loss, validation_accuracy = session.run([mean_loss, accuracy],\n",
    "                                                   feed_dict={inputs: input_batch, targets: target_batch})\n",
    "    \n",
    "    # Print statistics for the current epoch\n",
    "    print('Epoch ' + str(epoch_counter + 1) +\n",
    "         '. Training loss: ' + '{0:.3f}'.format(curr_epoch_loss) +\n",
    "         '. Validation loss: ' + '{0:.3f}'.format(validation_loss) +\n",
    "         '. Validation accuracy: ' + '{0:.2f}'.format(validation_accuracy * 100) + '%')\n",
    "    \n",
    "    # Trigger early stopping if validation loss begins increasing.\n",
    "    if validation_loss > previous_validation_loss:\n",
    "        break\n",
    "    \n",
    "    # Store this epoch's validation loss to be used as previous validation loss in the next iteration.\n",
    "    previous_validation_loss = validation_loss\n",
    "\n",
    "# Shows when the training has ended. Not compulsary but a nice QoL implement.\n",
    "print('End of training')\n",
    "print(\"Training time: %s seconds\" % (time.time() - start_time))"
   ]
  },
  {
   "cell_type": "markdown",
   "metadata": {},
   "source": [
    "### Test the data"
   ]
  },
  {
   "cell_type": "code",
   "execution_count": 11,
   "metadata": {},
   "outputs": [
    {
     "name": "stdout",
     "output_type": "stream",
     "text": [
      "Test accuracy: 97.49%\n"
     ]
    }
   ],
   "source": [
    "input_batch, target_batch = mnist.test.next_batch(mnist.test._num_examples)\n",
    "test_accuracy = session.run([accuracy],\n",
    "                           feed_dict={inputs: input_batch, targets: target_batch})\n",
    "\n",
    "test_accuracy_percent = test_accuracy[0] * 100.\n",
    "\n",
    "print('Test accuracy: ' + '{0:.2f}'.format(test_accuracy_percent) + '%')"
   ]
  },
  {
   "cell_type": "code",
   "execution_count": null,
   "metadata": {},
   "outputs": [],
   "source": []
  }
 ],
 "metadata": {
  "kernelspec": {
   "display_name": "Python 3",
   "language": "python",
   "name": "python3"
  },
  "language_info": {
   "codemirror_mode": {
    "name": "ipython",
    "version": 3
   },
   "file_extension": ".py",
   "mimetype": "text/x-python",
   "name": "python",
   "nbconvert_exporter": "python",
   "pygments_lexer": "ipython3",
   "version": "3.7.6"
  }
 },
 "nbformat": 4,
 "nbformat_minor": 4
}
